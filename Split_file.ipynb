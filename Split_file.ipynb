{
 "cells": [
  {
   "cell_type": "markdown",
   "id": "9c7f9f22",
   "metadata": {},
   "source": [
    "# Xử lý file đầu vào"
   ]
  },
  {
   "cell_type": "code",
   "execution_count": 1,
   "id": "5246b1a3",
   "metadata": {},
   "outputs": [],
   "source": [
    "# import các thư viện\n",
    "import librosa\n",
    "import librosa.display\n",
    "import IPython.display as ipd\n",
    "import matplotlib.pyplot as plt\n",
    "import numpy as np\n",
    "from pydub.playback import play \n",
    "import re\n",
    "import os\n",
    "from pydub import AudioSegment\n",
    "from pydub.utils import which\n",
    "AudioSegment.converter = which(\"ffmpeg\")"
   ]
  },
  {
   "cell_type": "code",
   "execution_count": 2,
   "id": "843b5ca1",
   "metadata": {},
   "outputs": [],
   "source": [
    "# xoá dấu trong nhãn tiếng việt\n",
    "def no_accent_vietnamese(s):\n",
    "    s = s.lower()\n",
    "    s = re.sub('[áàảãạăắằẳẵặâấầẩẫậ]', 'a', s)\n",
    "    s = re.sub('[ÁÀẢÃẠĂẮẰẲẴẶÂẤẦẨẪẬ]', 'A', s)\n",
    "    s = re.sub('[éèẻẽẹêếềểễệ]', 'e', s)\n",
    "    s = re.sub('[ÉÈẺẼẸÊẾỀỂỄỆ]', 'E', s)\n",
    "    s = re.sub('[óòỏõọôốồổỗộơớờởỡợ]', 'o', s)\n",
    "    s = re.sub('[ÓÒỎÕỌÔỐỒỔỖỘƠỚỜỞỠỢ]', 'O', s)\n",
    "    s = re.sub('[íìỉĩị]', 'i', s)\n",
    "    s = re.sub('[ÍÌỈĨỊ]', 'I', s)\n",
    "    s = re.sub('[úùủũụưứừửữự]', 'u', s)\n",
    "    s = re.sub('[ÚÙỦŨỤƯỨỪỬỮỰ]', 'U', s)\n",
    "    s = re.sub('[ýỳỷỹỵ]', 'y', s)\n",
    "    s = re.sub('[ÝỲỶỸỴ]', 'Y', s)\n",
    "    s = re.sub('đ', 'd', s)\n",
    "    s = re.sub('Đ', 'D', s)\n",
    "    return s"
   ]
  },
  {
   "cell_type": "code",
   "execution_count": 8,
   "id": "395c1f64",
   "metadata": {},
   "outputs": [],
   "source": [
    "# tách file từng nhãn theo giây \n",
    "def split_file(path_wav, path_txt):\n",
    "    commands = list()\n",
    "    wav_file = AudioSegment.from_file(path_wav)\n",
    "    file = open(path_txt.format(name,n = names ), \"r\", encoding=\"utf8\")\n",
    "    for line in file:\n",
    "        arr = line.split()\n",
    "        try:\n",
    "            commands.append({\n",
    "                \"audio\" : wav_file[float(arr[0])*1000:float(arr[1])*1000] ,\n",
    "                \"command\": no_accent_vietnamese(arr[2])\n",
    "            })\n",
    "        except:\n",
    "            pass\n",
    "    return commands"
   ]
  },
  {
   "cell_type": "code",
   "execution_count": 9,
   "id": "751d071e",
   "metadata": {},
   "outputs": [],
   "source": [
    "# Lấy file của từng người và thực hiện tách\n",
    "path =\"D:\\\\xltn\\\\data_raw\\\\{}\\\\\"\n",
    "def get_split(name):\n",
    "    list_commands = []\n",
    "    path_wav = [file for file in os.listdir(path.format(name)) if file.endswith(\".wav\")]\n",
    "    path_txt = [file for file in os.listdir(path.format(name)) if file.endswith(\".txt\")]\n",
    "    for i in range(len(path_wav)):\n",
    "        list_commands = list_commands+split_file(path.format(name)+path_wav[i] ,path.format(name)+path_txt[i])\n",
    "    return list_commands"
   ]
  },
  {
   "cell_type": "code",
   "execution_count": 5,
   "id": "b57ef687",
   "metadata": {},
   "outputs": [],
   "source": [
    "names = [\"nghia\",\"khiem\",\"minh\",\"giang\",\"huy\",\"hoang\",\"long\"]\n",
    "list_commands = []\n",
    "for name in names:\n",
    "    list_commands = list_commands + get_split(name)"
   ]
  },
  {
   "cell_type": "code",
   "execution_count": 6,
   "id": "13f1a545",
   "metadata": {},
   "outputs": [
    {
     "data": {
      "text/plain": [
       "6985"
      ]
     },
     "execution_count": 6,
     "metadata": {},
     "output_type": "execute_result"
    }
   ],
   "source": [
    "list_commands = [i for i in list_commands if not (i['command'] in [\"si\" ,\"sil\"])]\n",
    "len(list_commands)"
   ]
  },
  {
   "cell_type": "code",
   "execution_count": 7,
   "id": "9bdbbe31",
   "metadata": {},
   "outputs": [],
   "source": [
    "# Lưu ra một file dataset để sử dụng cho các bài tiếp theo \n",
    "list_commands_name= [\"a\", \"b\", 'nhay','ban','len','xuong','trai','phai']\n",
    "for commands in list_commands_name:\n",
    "    path_export = \"D:\\\\xltn\\\\dataset\\\\{}\\\\file{}.wav\"\n",
    "    list_file = [i for i in list_commands if (i['command'] == commands)]\n",
    "    for i in range(len(list_file)):\n",
    "        list_file[i][\"audio\"].export(path_export.format(commands,i), format=\"wav\")"
   ]
  },
  {
   "cell_type": "code",
   "execution_count": null,
   "id": "e152554d",
   "metadata": {},
   "outputs": [],
   "source": []
  }
 ],
 "metadata": {
  "kernelspec": {
   "display_name": "Python 3",
   "language": "python",
   "name": "python3"
  },
  "language_info": {
   "codemirror_mode": {
    "name": "ipython",
    "version": 3
   },
   "file_extension": ".py",
   "mimetype": "text/x-python",
   "name": "python",
   "nbconvert_exporter": "python",
   "pygments_lexer": "ipython3",
   "version": "3.6.13"
  }
 },
 "nbformat": 4,
 "nbformat_minor": 5
}
