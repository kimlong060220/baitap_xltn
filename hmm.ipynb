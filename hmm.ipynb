{
 "cells": [
  {
   "cell_type": "markdown",
   "id": "2d67af4d",
   "metadata": {},
   "source": [
    "# HMM"
   ]
  },
  {
   "cell_type": "code",
   "execution_count": 1,
   "id": "c6d22245",
   "metadata": {},
   "outputs": [],
   "source": [
    "# import thư viện\n",
    "import librosa\n",
    "import librosa.display\n",
    "import matplotlib.pyplot as plt\n",
    "import IPython.display as dsp\n",
    "import numpy as np\n",
    "import os\n",
    "import shutil\n",
    "import subprocess\n",
    "import random\n",
    "from hmmlearn.base import ConvergenceMonitor\n",
    "from hmmlearn import hmm\n",
    "from sklearn import preprocessing\n",
    "from scipy.io.wavfile import read"
   ]
  },
  {
   "cell_type": "code",
   "execution_count": 2,
   "id": "5ca3e18a",
   "metadata": {},
   "outputs": [],
   "source": [
    "# Hàm tính đặc trưng MFCC\n",
    "def mfcc(wav_path, delta=2):\n",
    "    y, sr = librosa.load(wav_path)\n",
    "    # MEL frequency cepstrum coefficient\n",
    "    mfcc_feat = librosa.feature.mfcc(y = y, sr = sr, n_mfcc = 13)\n",
    "    ans = [mfcc_feat]\n",
    "    # Calculate the 1st derivative\n",
    "    if delta >= 1:\n",
    "        mfcc_delta1 = librosa.feature.delta(mfcc_feat, order = 1, mode ='nearest')\n",
    "        ans.append(mfcc_delta1)\n",
    "    # Calculate the 2nd derivative\n",
    "    if delta >= 2:\n",
    "        mfcc_delta2 = librosa.feature.delta(mfcc_feat, order = 2, mode ='nearest')\n",
    "        ans.append(mfcc_delta2)\n",
    "\n",
    "    return np.transpose(np.concatenate(ans, axis = 0),[1,0])"
   ]
  },
  {
   "cell_type": "code",
   "execution_count": 3,
   "id": "dd46949b",
   "metadata": {},
   "outputs": [],
   "source": [
    "input_folder = \"D:\\\\xltn\\\\dataset\\\\\""
   ]
  },
  {
   "cell_type": "code",
   "execution_count": 4,
   "id": "af4965ff",
   "metadata": {},
   "outputs": [],
   "source": [
    "# Hàm train model cho từng nhãn \n",
    "def train_model_hmm(train_dir):\n",
    "    train_files = [x for x in os.listdir(train_dir) if x.endswith('.wav')]\n",
    "    X = np.array([])\n",
    "    for file_name in train_files:\n",
    "        file_path = os.path.join(train_dir, file_name)\n",
    "        try:\n",
    "            features_mfcc = mfcc(file_path)\n",
    "            if len(X) == 0:\n",
    "                X = features_mfcc\n",
    "            else:\n",
    "                try:\n",
    "                    X = np.append(X, features_mfcc, axis=0)\n",
    "                except:\n",
    "                    pass\n",
    "        except:\n",
    "            print(file_path)\n",
    "            pass\n",
    "    model = hmm.GaussianHMM(n_components=4, covariance_type='diag', n_iter=1800)\n",
    "    # fit hmm model\n",
    "    np.seterr(all='ignore')\n",
    "    model.fit(X)\n",
    "    return model"
   ]
  },
  {
   "cell_type": "code",
   "execution_count": 5,
   "id": "30175339",
   "metadata": {},
   "outputs": [
    {
     "name": "stdout",
     "output_type": "stream",
     "text": [
      "D:\\xltn\\dataset\\a\n",
      "D:\\xltn\\dataset\\b\n",
      "D:\\xltn\\dataset\\ban\n",
      "D:\\xltn\\dataset\\len\n",
      "D:\\xltn\\dataset\\nhay\n",
      "D:\\xltn\\dataset\\phai\n",
      "D:\\xltn\\dataset\\trai\n",
      "D:\\xltn\\dataset\\xuong\n"
     ]
    }
   ],
   "source": [
    "# mỗi nhãn tạo một model \n",
    "hmm_models = []\n",
    "for digit in os.listdir(input_folder):\n",
    "    label = digit\n",
    "    path = input_folder+ digit\n",
    "    print(path)\n",
    "    hmm_models.append((train_model_hmm(path), label))"
   ]
  },
  {
   "cell_type": "code",
   "execution_count": 6,
   "id": "3699b4be",
   "metadata": {},
   "outputs": [],
   "source": [
    "# Hàm dự đoán\n",
    "def predict_hmm(hmm_models, test_file):\n",
    "    features_mfcc_test = mfcc(test_file)\n",
    "    max_score = -float('inf')\n",
    "    predicted_label = \"\"\n",
    "    for item in hmm_models:\n",
    "        model, label = item\n",
    "        score = model.score(features_mfcc_test)\n",
    "        if score > max_score:\n",
    "            max_score = score\n",
    "            predicted_label = label\n",
    "    return predicted_label"
   ]
  },
  {
   "cell_type": "code",
   "execution_count": 17,
   "id": "b6748561",
   "metadata": {},
   "outputs": [],
   "source": [
    "# test độ chính xác của model\n",
    "test_paths = []\n",
    "for path in os.listdir(input_folder):\n",
    "    label = path\n",
    "    arr = os.listdir(input_folder+path)\n",
    "    test_arr = np.random.choice(arr,100)\n",
    "    for test_file in test_arr:\n",
    "        test_paths.append({\n",
    "            \"test_path\" : input_folder+path+\"\\\\\"+test_file,\n",
    "            \"label\": label})"
   ]
  },
  {
   "cell_type": "code",
   "execution_count": 18,
   "id": "4148611d",
   "metadata": {},
   "outputs": [],
   "source": [
    "predict_true = 0\n",
    "predict_false = {'a':0, 'b':0, 'len':0, 'xuong':0, 'trai':0, 'phai':0, 'ban':0, 'nhay':0}\n",
    "for test in test_paths:\n",
    "    predict_label = predict_hmm(hmm_models,test[\"test_path\"])\n",
    "    if predict_label == test[\"label\"]:\n",
    "        predict_true +=1\n",
    "    else:\n",
    "        predict_false[test[\"label\"]]+=1"
   ]
  },
  {
   "cell_type": "code",
   "execution_count": 15,
   "id": "84ad321f",
   "metadata": {},
   "outputs": [
    {
     "data": {
      "text/plain": [
       "{'a': 3,\n",
       " 'b': 3,\n",
       " 'len': 4,\n",
       " 'xuong': 0,\n",
       " 'trai': 1,\n",
       " 'phai': 5,\n",
       " 'ban': 4,\n",
       " 'nhay': 4}"
      ]
     },
     "execution_count": 15,
     "metadata": {},
     "output_type": "execute_result"
    }
   ],
   "source": [
    "predict_false"
   ]
  },
  {
   "cell_type": "code",
   "execution_count": 21,
   "id": "1c767a28",
   "metadata": {},
   "outputs": [
    {
     "name": "stdout",
     "output_type": "stream",
     "text": [
      "độ chính xác: 93.50%\n",
      "\n",
      "Số lần nhận diện sai của từng nhãn:\n",
      "{'a': 3, 'b': 7, 'len': 8, 'xuong': 0, 'trai': 1, 'phai': 14, 'ban': 14, 'nhay': 5}\n"
     ]
    }
   ],
   "source": [
    "print('độ chính xác: {:.2f}%\\n'.format(predict_true/len(test_paths)*100))\n",
    "print(\"Số lần nhận diện sai của từng nhãn:\")\n",
    "print(predict_false)"
   ]
  },
  {
   "cell_type": "code",
   "execution_count": 78,
   "id": "c864c3b6",
   "metadata": {},
   "outputs": [
    {
     "name": "stdout",
     "output_type": "stream",
     "text": [
      "start recording\n",
      "end recording\n"
     ]
    },
    {
     "data": {
      "text/plain": [
       "'nhay'"
      ]
     },
     "execution_count": 78,
     "metadata": {},
     "output_type": "execute_result"
    }
   ],
   "source": [
    "import time\n",
    "import sounddevice as sd\n",
    "from scipy.io.wavfile import write\n",
    "import wavio as wv\n",
    "  \n",
    "# Sampling frequency\n",
    "freq = 22050\n",
    "  \n",
    "# Recording duration\n",
    "duration = 1\n",
    "\n",
    "time.sleep(3)\n",
    "# Start recorder with the given values \n",
    "# of duration and sample frequency\n",
    "print(\"start recording\")\n",
    "recording = sd.rec(int(duration * freq), \n",
    "                   samplerate=freq, channels=2)\n",
    "  \n",
    "# Record audio for the given number of seconds\n",
    "sd.wait()\n",
    "# This will convert the NumPy array to an audio\n",
    "# file with the given sampling frequency\n",
    "write(\"recording0.wav\", freq, recording)\n",
    "\n",
    "print(\"end recording\")\n",
    "predict_hmm(hmm_models,\"D:\\\\xltn\\\\recording0.wav\")"
   ]
  },
  {
   "cell_type": "code",
   "execution_count": 69,
   "id": "c00e9bc9",
   "metadata": {},
   "outputs": [
    {
     "data": {
      "text/plain": [
       "'nhay'"
      ]
     },
     "execution_count": 69,
     "metadata": {},
     "output_type": "execute_result"
    }
   ],
   "source": []
  },
  {
   "cell_type": "code",
   "execution_count": null,
   "id": "33348ec1",
   "metadata": {},
   "outputs": [],
   "source": []
  }
 ],
 "metadata": {
  "kernelspec": {
   "display_name": "Python 3",
   "language": "python",
   "name": "python3"
  },
  "language_info": {
   "codemirror_mode": {
    "name": "ipython",
    "version": 3
   },
   "file_extension": ".py",
   "mimetype": "text/x-python",
   "name": "python",
   "nbconvert_exporter": "python",
   "pygments_lexer": "ipython3",
   "version": "3.6.13"
  }
 },
 "nbformat": 4,
 "nbformat_minor": 5
}
