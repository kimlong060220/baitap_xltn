{
 "cells": [
  {
   "cell_type": "markdown",
   "id": "6b51ad21",
   "metadata": {},
   "source": [
    "# HMM"
   ]
  },
  {
   "cell_type": "code",
   "execution_count": 1,
   "id": "c6d22245",
   "metadata": {},
   "outputs": [],
   "source": [
    "# import thư viện\n",
    "import librosa\n",
    "import librosa.display\n",
    "import matplotlib.pyplot as plt\n",
    "import IPython.display as dsp\n",
    "import numpy as np\n",
    "import os\n",
    "import shutil\n",
    "import subprocess\n",
    "import random\n",
    "from hmmlearn.base import ConvergenceMonitor\n",
    "from hmmlearn import hmm\n",
    "from sklearn import preprocessing\n",
    "from scipy.io.wavfile import read"
   ]
  },
  {
   "cell_type": "code",
   "execution_count": 2,
   "id": "5ca3e18a",
   "metadata": {},
   "outputs": [],
   "source": [
    "# Hàm tính đặc trưng MFCC\n",
    "def mfcc(wav_path, delta=2):\n",
    "    y, sr = librosa.load(wav_path)\n",
    "    # MEL frequency cepstrum coefficient\n",
    "    mfcc_feat = librosa.feature.mfcc(y = y, sr = sr, n_mfcc = 13)\n",
    "    ans = [mfcc_feat]\n",
    "    # Calculate the 1st derivative\n",
    "    if delta >= 1:\n",
    "        mfcc_delta1 = librosa.feature.delta(mfcc_feat, order = 1, mode ='nearest')\n",
    "        ans.append(mfcc_delta1)\n",
    "    # Calculate the 2nd derivative\n",
    "    if delta >= 2:\n",
    "        mfcc_delta2 = librosa.feature.delta(mfcc_feat, order = 2, mode ='nearest')\n",
    "        ans.append(mfcc_delta2)\n",
    "\n",
    "    return np.transpose(np.concatenate(ans, axis = 0),[1,0])"
   ]
  },
  {
   "cell_type": "code",
   "execution_count": 3,
   "id": "dd46949b",
   "metadata": {},
   "outputs": [],
   "source": [
    "input_folder = \"D:\\\\xltn\\\\dataset\\\\\""
   ]
  },
  {
   "cell_type": "code",
   "execution_count": 4,
   "id": "af4965ff",
   "metadata": {},
   "outputs": [],
   "source": [
    "# Hàm train model cho từng nhãn \n",
    "def train_model_hmm(train_dir):\n",
    "    train_files = [x for x in os.listdir(train_dir) if x.endswith('.wav')]\n",
    "    X = np.array([])\n",
    "    for file_name in train_files:\n",
    "        file_path = os.path.join(train_dir, file_name)\n",
    "        try:\n",
    "            features_mfcc = mfcc(file_path)\n",
    "            if len(X) == 0:\n",
    "                X = features_mfcc\n",
    "            else:\n",
    "                try:\n",
    "                    X = np.append(X, features_mfcc, axis=0)\n",
    "                except:\n",
    "                    pass\n",
    "        except:\n",
    "            print(file_path)\n",
    "            pass\n",
    "    model = hmm.GaussianHMM(n_components=4, covariance_type='diag', n_iter=1800)\n",
    "    # fit hmm model\n",
    "    np.seterr(all='ignore')\n",
    "    model.fit(X)\n",
    "    return model"
   ]
  },
  {
   "cell_type": "code",
   "execution_count": 5,
   "id": "30175339",
   "metadata": {},
   "outputs": [
    {
     "name": "stdout",
     "output_type": "stream",
     "text": [
      "D:\\xltn\\dataset\\a\n",
      "D:\\xltn\\dataset\\b\n",
      "D:\\xltn\\dataset\\ban\n",
      "D:\\xltn\\dataset\\len\n",
      "D:\\xltn\\dataset\\nhay\n",
      "D:\\xltn\\dataset\\phai\n",
      "D:\\xltn\\dataset\\trai\n",
      "D:\\xltn\\dataset\\xuong\n"
     ]
    }
   ],
   "source": [
    "# mỗi nhãn tạo một model \n",
    "hmm_models = []\n",
    "for digit in os.listdir(input_folder):\n",
    "    label = digit\n",
    "    path = input_folder+ digit\n",
    "    print(path)\n",
    "    hmm_models.append((train_model_hmm(path), label))"
   ]
  },
  {
   "cell_type": "code",
   "execution_count": 6,
   "id": "3699b4be",
   "metadata": {},
   "outputs": [],
   "source": [
    "# Hàm dự đoán\n",
    "def predict_hmm(hmm_models, test_file):\n",
    "    features_mfcc_test = mfcc(test_file)\n",
    "    max_score = -float('inf')\n",
    "    predicted_label = \"\"\n",
    "    for item in hmm_models:\n",
    "        model, label = item\n",
    "        score = model.score(features_mfcc_test)\n",
    "        if score > max_score:\n",
    "            max_score = score\n",
    "            predicted_label = label\n",
    "    return predicted_label"
   ]
  },
  {
   "cell_type": "code",
   "execution_count": 17,
   "id": "b6748561",
   "metadata": {},
   "outputs": [],
   "source": [
    "# test độ chính xác của model\n",
    "test_paths = []\n",
    "for path in os.listdir(input_folder):\n",
    "    label = path\n",
    "    arr = os.listdir(input_folder+path)\n",
    "    test_arr = np.random.choice(arr,100)\n",
    "    for test_file in test_arr:\n",
    "        test_paths.append({\n",
    "            \"test_path\" : input_folder+path+\"\\\\\"+test_file,\n",
    "            \"label\": label})"
   ]
  },
  {
   "cell_type": "code",
   "execution_count": 18,
   "id": "4148611d",
   "metadata": {},
   "outputs": [],
   "source": [
    "predict_true = 0\n",
    "predict_false = {'a':0, 'b':0, 'len':0, 'xuong':0, 'trai':0, 'phai':0, 'ban':0, 'nhay':0}\n",
    "for test in test_paths:\n",
    "    predict_label = predict_hmm(hmm_models,test[\"test_path\"])\n",
    "    if predict_label == test[\"label\"]:\n",
    "        predict_true +=1\n",
    "    else:\n",
    "        predict_false[test[\"label\"]]+=1"
   ]
  },
  {
   "cell_type": "code",
   "execution_count": 15,
   "id": "59d349e4",
   "metadata": {},
   "outputs": [
    {
     "data": {
      "text/plain": [
       "{'a': 3,\n",
       " 'b': 3,\n",
       " 'len': 4,\n",
       " 'xuong': 0,\n",
       " 'trai': 1,\n",
       " 'phai': 5,\n",
       " 'ban': 4,\n",
       " 'nhay': 4}"
      ]
     },
     "execution_count": 15,
     "metadata": {},
     "output_type": "execute_result"
    }
   ],
   "source": [
    "predict_false"
   ]
  },
  {
   "cell_type": "code",
   "execution_count": 21,
   "id": "425d3089",
   "metadata": {},
   "outputs": [
    {
     "name": "stdout",
     "output_type": "stream",
     "text": [
      "độ chính xác: 93.50%\n",
      "\n",
      "Số lần nhận diện sai của từng nhãn:\n",
      "{'a': 3, 'b': 7, 'len': 8, 'xuong': 0, 'trai': 1, 'phai': 14, 'ban': 14, 'nhay': 5}\n"
     ]
    }
   ],
   "source": [
    "print('độ chính xác: {:.2f}%\\n'.format(predict_true/len(test_paths)*100))\n",
    "print(\"Số lần nhận diện sai của từng nhãn:\")\n",
    "print(predict_false)"
   ]
  },
  {
   "cell_type": "code",
   "execution_count": 88,
   "id": "c00e9bc9",
   "metadata": {},
   "outputs": [],
   "source": [
    "test_path =  np.random.choice(os.listdir(\"D:\\\\xltn\\\\dataset\\\\{}\\\\\".format(\"a\")),1)[0]"
   ]
  },
  {
   "cell_type": "code",
   "execution_count": 120,
   "id": "117a150b",
   "metadata": {},
   "outputs": [
    {
     "data": {
      "text/html": [
       "\n",
       "                <audio  controls=\"controls\" >\n",
       "                    <source src=\"data:audio/wav;base64,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\" type=\"audio/wav\" />\n",
       "                    Your browser does not support the audio element.\n",
       "                </audio>\n",
       "              "
      ],
      "text/plain": [
       "<IPython.lib.display.Audio object>"
      ]
     },
     "execution_count": 120,
     "metadata": {},
     "output_type": "execute_result"
    }
   ],
   "source": [
    "label_test = \"ban\"\n",
    "test_path =  np.random.choice(os.listdir(\"D:\\\\xltn\\\\dataset\\\\{}\\\\\".format(label_test)),1)[0]\n",
    "import IPython.display as ipd\n",
    "ipd.Audio(\"D:\\\\xltn\\\\dataset\\\\{}\\\\\".format(label_test)+test_path)"
   ]
  },
  {
   "cell_type": "code",
   "execution_count": 121,
   "id": "c2d708fa",
   "metadata": {},
   "outputs": [
    {
     "data": {
      "text/plain": [
       "'ban'"
      ]
     },
     "execution_count": 121,
     "metadata": {},
     "output_type": "execute_result"
    }
   ],
   "source": [
    "predict_hmm(hmm_models,\"D:\\\\xltn\\\\dataset\\\\{}\\\\\".format(label_test)+test_path)"
   ]
  },
  {
   "cell_type": "code",
   "execution_count": null,
   "id": "1f7b44b8",
   "metadata": {},
   "outputs": [],
   "source": []
  }
 ],
 "metadata": {
  "kernelspec": {
   "display_name": "Python 3",
   "language": "python",
   "name": "python3"
  },
  "language_info": {
   "codemirror_mode": {
    "name": "ipython",
    "version": 3
   },
   "file_extension": ".py",
   "mimetype": "text/x-python",
   "name": "python",
   "nbconvert_exporter": "python",
   "pygments_lexer": "ipython3",
   "version": "3.6.13"
  }
 },
 "nbformat": 4,
 "nbformat_minor": 5
}
