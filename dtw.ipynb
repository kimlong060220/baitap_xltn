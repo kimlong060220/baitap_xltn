{
 "cells": [
  {
   "cell_type": "markdown",
   "id": "7c8d1bee-b7be-4fc1-830c-0dbf4c36d419",
   "metadata": {
    "tags": []
   },
   "source": [
    "\n",
    "# DTW"
   ]
  },
  {
   "cell_type": "code",
   "execution_count": 1,
   "id": "3f5c85b5",
   "metadata": {},
   "outputs": [],
   "source": [
    "# import thư viện cần sử dụng\n",
    "import os\n",
    "import re\n",
    "import librosa\n",
    "import numpy as np\n",
    "from tqdm import tqdm"
   ]
  },
  {
   "cell_type": "markdown",
   "id": "c63ab746-2445-44e2-996a-18cce7830a8b",
   "metadata": {
    "tags": []
   },
   "source": [
    "\n",
    "# Đọc, xử lý dữ liệu, tách đặc trưng\n"
   ]
  },
  {
   "cell_type": "code",
   "execution_count": 2,
   "id": "4dbc71aa",
   "metadata": {},
   "outputs": [],
   "source": [
    "def normalize(feature):\n",
    "    normalized = np.full_like(feature, 0)\n",
    "    for i in range(feature.shape[1]):\n",
    "        normalized[:,i] = feature[:,i] - np.mean(feature[:,i]) # đưa trung bình về 0\n",
    "        normalized[:,i] = normalized[:,i] / np.max(np.abs(normalized[:,i])) # đưa khoảng giá trị về [-1, 1]\n",
    "    return normalized"
   ]
  },
  {
   "cell_type": "code",
   "execution_count": 3,
   "id": "19972573",
   "metadata": {},
   "outputs": [],
   "source": [
    "def mfcc(path):\n",
    "    #load file bằng thư viện librosa\n",
    "    audio = librosa.load(path)[0]\n",
    "    #trích xuất lần lượt mfcc ,delta và deltadelta\n",
    "    mfcc = librosa.feature.mfcc(y=audio, n_mfcc=13)\n",
    "    delta = librosa.feature.delta(mfcc)\n",
    "    deltadelta = librosa.feature.delta(mfcc, order=2)\n",
    "    \n",
    "    return normalize(np.concatenate((mfcc, delta, deltadelta)))"
   ]
  },
  {
   "cell_type": "code",
   "execution_count": 5,
   "id": "267acace-3c6b-489d-86f3-2aba24b217b4",
   "metadata": {},
   "outputs": [],
   "source": [
    "def build_average_template(command, metric='euclidean'): # command = a b len xuong trai phai ban\n",
    "    path = 'D:\\\\xltn\\\\dataset\\\\'+command+\"\\\\\"\n",
    "    p_train = [path+i for i in np.random.choice(os.listdir(path),3)]\n",
    "    \n",
    "    templates = [mfcc(p) for p in p_train]\n",
    "    #print(type(templates[0]))\n",
    "    \n",
    "    _, align01 = librosa.sequence.dtw(X=templates[0], Y=templates[1])\n",
    "    _, align02 = librosa.sequence.dtw(X=templates[0], Y=templates[2])\n",
    "    count = np.ones(len(templates[0][0])) # count[i] đếm số vectơ được dóng vào vị trí i của template chuẩn\n",
    "    sum = templates[0].copy() # tổng của 3 template sau khi dóng\n",
    "\n",
    "    for t, q in align01:\n",
    "        count[t] += 1\n",
    "        sum[:,t] += templates[1][:,q]\n",
    "\n",
    "    for t, q in align02:\n",
    "        count[t] += 1\n",
    "        sum[:,t] += templates[2][:,q]\n",
    "\n",
    "    average_template = sum / count\n",
    "\n",
    "    return average_template"
   ]
  },
  {
   "cell_type": "code",
   "execution_count": 6,
   "id": "04c7cb7b-28e7-4e96-b6a5-c72f2de3465d",
   "metadata": {},
   "outputs": [],
   "source": [
    "commands = ['a', 'b', 'len', 'xuong', 'trai', 'phai', 'ban', 'nhay']\n",
    "model_reconizes = [build_average_template(cmd) for cmd in commands]"
   ]
  },
  {
   "cell_type": "code",
   "execution_count": 7,
   "id": "d45f4d0a",
   "metadata": {},
   "outputs": [],
   "source": [
    "def predict_lable(path):\n",
    "    template_predict = mfcc(path)\n",
    "    costs = []\n",
    "    for model in model_reconizes:\n",
    "        cost = librosa.sequence.dtw(template_predict, model)[0][-1,-1]\n",
    "        costs.append(cost)\n",
    "    return commands[np.argmin(costs)]"
   ]
  },
  {
   "cell_type": "code",
   "execution_count": 12,
   "id": "80d97ad8",
   "metadata": {},
   "outputs": [],
   "source": [
    "def get_test_path():\n",
    "    input_folder = 'D:\\\\xltn\\\\dataset\\\\'\n",
    "    test_paths = []\n",
    "    for path in os.listdir(input_folder):\n",
    "        label = path\n",
    "        arr = os.listdir(input_folder+path)\n",
    "        test_arr = np.random.choice(arr,50)\n",
    "        for test_file in test_arr:\n",
    "            test_paths.append({\n",
    "                \"test_path\" : input_folder+path+\"\\\\\"+test_file,\n",
    "                \"label\": label})\n",
    "    return test_paths\n",
    "def test():\n",
    "    test_paths = get_test_path()\n",
    "    total = 0\n",
    "    predict_true = 0\n",
    "    predict_false = {'a':0, 'b':0, 'len':0, 'xuong':0, 'trai':0, 'phai':0, 'ban':0, 'nhay':0}\n",
    "    for test in tqdm(test_paths):\n",
    "        try:\n",
    "            predict_label = predict_lable(test[\"test_path\"])\n",
    "            if predict_label == test[\"label\"]:\n",
    "                predict_true +=1\n",
    "            else:\n",
    "                predict_false[test[\"label\"]]+=1\n",
    "            total +=1\n",
    "        except:\n",
    "            pass\n",
    "    print('độ chính xác: {:.2f}%\\n'.format(predict_true/total*100))\n",
    "    print(\"Số lần nhận diện sai của từng nhãn:\")\n",
    "    print(predict_false)"
   ]
  },
  {
   "cell_type": "code",
   "execution_count": 13,
   "id": "848007d3",
   "metadata": {},
   "outputs": [
    {
     "name": "stderr",
     "output_type": "stream",
     "text": [
      "100%|████████████████████████████████████████████████████████████████████████████████| 400/400 [00:11<00:00, 34.74it/s]"
     ]
    },
    {
     "name": "stdout",
     "output_type": "stream",
     "text": [
      "độ chính xác: 52.50%\n",
      "\n",
      "Số lần nhận diện sai của từng nhãn:\n",
      "{'a': 18, 'b': 47, 'len': 25, 'xuong': 16, 'trai': 35, 'phai': 12, 'ban': 29, 'nhay': 8}\n"
     ]
    },
    {
     "name": "stderr",
     "output_type": "stream",
     "text": [
      "\n"
     ]
    }
   ],
   "source": [
    "test()"
   ]
  },
  {
   "cell_type": "code",
   "execution_count": null,
   "id": "594887f6",
   "metadata": {},
   "outputs": [],
   "source": []
  }
 ],
 "metadata": {
  "kernelspec": {
   "display_name": "Python 3",
   "language": "python",
   "name": "python3"
  },
  "language_info": {
   "codemirror_mode": {
    "name": "ipython",
    "version": 3
   },
   "file_extension": ".py",
   "mimetype": "text/x-python",
   "name": "python",
   "nbconvert_exporter": "python",
   "pygments_lexer": "ipython3",
   "version": "3.6.13"
  },
  "toc-autonumbering": false
 },
 "nbformat": 4,
 "nbformat_minor": 5
}
